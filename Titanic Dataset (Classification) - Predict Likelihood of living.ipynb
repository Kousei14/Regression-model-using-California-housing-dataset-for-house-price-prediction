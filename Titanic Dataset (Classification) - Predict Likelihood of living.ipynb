{
 "cells": [
  {
   "cell_type": "code",
   "execution_count": 113,
   "id": "90b75363",
   "metadata": {},
   "outputs": [
    {
     "data": {
      "text/html": [
       "<div>\n",
       "<style scoped>\n",
       "    .dataframe tbody tr th:only-of-type {\n",
       "        vertical-align: middle;\n",
       "    }\n",
       "\n",
       "    .dataframe tbody tr th {\n",
       "        vertical-align: top;\n",
       "    }\n",
       "\n",
       "    .dataframe thead th {\n",
       "        text-align: right;\n",
       "    }\n",
       "</style>\n",
       "<table border=\"1\" class=\"dataframe\">\n",
       "  <thead>\n",
       "    <tr style=\"text-align: right;\">\n",
       "      <th></th>\n",
       "      <th>PassengerId</th>\n",
       "      <th>Survived</th>\n",
       "      <th>Pclass</th>\n",
       "      <th>Name</th>\n",
       "      <th>Sex</th>\n",
       "      <th>Age</th>\n",
       "      <th>SibSp</th>\n",
       "      <th>Parch</th>\n",
       "      <th>Ticket</th>\n",
       "      <th>Fare</th>\n",
       "      <th>Cabin</th>\n",
       "      <th>Embarked</th>\n",
       "    </tr>\n",
       "  </thead>\n",
       "  <tbody>\n",
       "    <tr>\n",
       "      <th>0</th>\n",
       "      <td>892</td>\n",
       "      <td>0</td>\n",
       "      <td>3</td>\n",
       "      <td>Kelly, Mr. James</td>\n",
       "      <td>male</td>\n",
       "      <td>34.5</td>\n",
       "      <td>0</td>\n",
       "      <td>0</td>\n",
       "      <td>330911</td>\n",
       "      <td>7.8292</td>\n",
       "      <td>NaN</td>\n",
       "      <td>Q</td>\n",
       "    </tr>\n",
       "    <tr>\n",
       "      <th>1</th>\n",
       "      <td>893</td>\n",
       "      <td>1</td>\n",
       "      <td>3</td>\n",
       "      <td>Wilkes, Mrs. James (Ellen Needs)</td>\n",
       "      <td>female</td>\n",
       "      <td>47.0</td>\n",
       "      <td>1</td>\n",
       "      <td>0</td>\n",
       "      <td>363272</td>\n",
       "      <td>7.0000</td>\n",
       "      <td>NaN</td>\n",
       "      <td>S</td>\n",
       "    </tr>\n",
       "    <tr>\n",
       "      <th>2</th>\n",
       "      <td>894</td>\n",
       "      <td>0</td>\n",
       "      <td>2</td>\n",
       "      <td>Myles, Mr. Thomas Francis</td>\n",
       "      <td>male</td>\n",
       "      <td>62.0</td>\n",
       "      <td>0</td>\n",
       "      <td>0</td>\n",
       "      <td>240276</td>\n",
       "      <td>9.6875</td>\n",
       "      <td>NaN</td>\n",
       "      <td>Q</td>\n",
       "    </tr>\n",
       "    <tr>\n",
       "      <th>3</th>\n",
       "      <td>895</td>\n",
       "      <td>0</td>\n",
       "      <td>3</td>\n",
       "      <td>Wirz, Mr. Albert</td>\n",
       "      <td>male</td>\n",
       "      <td>27.0</td>\n",
       "      <td>0</td>\n",
       "      <td>0</td>\n",
       "      <td>315154</td>\n",
       "      <td>8.6625</td>\n",
       "      <td>NaN</td>\n",
       "      <td>S</td>\n",
       "    </tr>\n",
       "    <tr>\n",
       "      <th>4</th>\n",
       "      <td>896</td>\n",
       "      <td>1</td>\n",
       "      <td>3</td>\n",
       "      <td>Hirvonen, Mrs. Alexander (Helga E Lindqvist)</td>\n",
       "      <td>female</td>\n",
       "      <td>22.0</td>\n",
       "      <td>1</td>\n",
       "      <td>1</td>\n",
       "      <td>3101298</td>\n",
       "      <td>12.2875</td>\n",
       "      <td>NaN</td>\n",
       "      <td>S</td>\n",
       "    </tr>\n",
       "  </tbody>\n",
       "</table>\n",
       "</div>"
      ],
      "text/plain": [
       "   PassengerId  Survived  Pclass  \\\n",
       "0          892         0       3   \n",
       "1          893         1       3   \n",
       "2          894         0       2   \n",
       "3          895         0       3   \n",
       "4          896         1       3   \n",
       "\n",
       "                                           Name     Sex   Age  SibSp  Parch  \\\n",
       "0                              Kelly, Mr. James    male  34.5      0      0   \n",
       "1              Wilkes, Mrs. James (Ellen Needs)  female  47.0      1      0   \n",
       "2                     Myles, Mr. Thomas Francis    male  62.0      0      0   \n",
       "3                              Wirz, Mr. Albert    male  27.0      0      0   \n",
       "4  Hirvonen, Mrs. Alexander (Helga E Lindqvist)  female  22.0      1      1   \n",
       "\n",
       "    Ticket     Fare Cabin Embarked  \n",
       "0   330911   7.8292   NaN        Q  \n",
       "1   363272   7.0000   NaN        S  \n",
       "2   240276   9.6875   NaN        Q  \n",
       "3   315154   8.6625   NaN        S  \n",
       "4  3101298  12.2875   NaN        S  "
      ]
     },
     "execution_count": 113,
     "metadata": {},
     "output_type": "execute_result"
    }
   ],
   "source": [
    "import numpy as np\n",
    "import pandas as pd\n",
    "import matplotlib.pyplot as plt\n",
    "import seaborn as sns\n",
    "%matplotlib inline\n",
    "\n",
    "data = pd.read_csv('C:/Users/Randy/Downloads/archive1/tested.csv')\n",
    "data.head()"
   ]
  },
  {
   "cell_type": "code",
   "execution_count": 114,
   "id": "67e2d3c3",
   "metadata": {},
   "outputs": [
    {
     "name": "stdout",
     "output_type": "stream",
     "text": [
      "---Column names---\n",
      "\n",
      "Index(['PassengerId', 'Survived', 'Pclass', 'Name', 'Sex', 'Age', 'SibSp',\n",
      "       'Parch', 'Ticket', 'Fare', 'Cabin', 'Embarked'],\n",
      "      dtype='object')\n",
      "\n",
      "---Info---\n",
      "\n",
      "<class 'pandas.core.frame.DataFrame'>\n",
      "RangeIndex: 418 entries, 0 to 417\n",
      "Data columns (total 12 columns):\n",
      " #   Column       Non-Null Count  Dtype  \n",
      "---  ------       --------------  -----  \n",
      " 0   PassengerId  418 non-null    int64  \n",
      " 1   Survived     418 non-null    int64  \n",
      " 2   Pclass       418 non-null    int64  \n",
      " 3   Name         418 non-null    object \n",
      " 4   Sex          418 non-null    object \n",
      " 5   Age          332 non-null    float64\n",
      " 6   SibSp        418 non-null    int64  \n",
      " 7   Parch        418 non-null    int64  \n",
      " 8   Ticket       418 non-null    object \n",
      " 9   Fare         417 non-null    float64\n",
      " 10  Cabin        91 non-null     object \n",
      " 11  Embarked     418 non-null    object \n",
      "dtypes: float64(2), int64(5), object(5)\n",
      "memory usage: 39.3+ KB\n",
      "None\n",
      "\n",
      "---Data Shape---\n",
      "\n",
      "(418, 12)\n"
     ]
    }
   ],
   "source": [
    "print(\"---Column names---\")\n",
    "print(\"\")\n",
    "print(data.columns)\n",
    "print(\"\")\n",
    "print(\"---Info---\")\n",
    "print(\"\")\n",
    "print(data.info())\n",
    "print(\"\")\n",
    "print(\"---Data Shape---\")\n",
    "print(\"\")\n",
    "print(data.shape)"
   ]
  },
  {
   "cell_type": "code",
   "execution_count": 115,
   "id": "eee6a423",
   "metadata": {},
   "outputs": [
    {
     "data": {
      "text/plain": [
       "[dtype('int64'), dtype('float64'), dtype('O')]"
      ]
     },
     "execution_count": 115,
     "metadata": {},
     "output_type": "execute_result"
    }
   ],
   "source": [
    "list(set(data.dtypes))"
   ]
  },
  {
   "cell_type": "code",
   "execution_count": 116,
   "id": "54eab06c",
   "metadata": {},
   "outputs": [
    {
     "data": {
      "text/plain": [
       "0    266\n",
       "1    152\n",
       "Name: Survived, dtype: int64"
      ]
     },
     "execution_count": 116,
     "metadata": {},
     "output_type": "execute_result"
    }
   ],
   "source": [
    "data['Survived'].value_counts()"
   ]
  },
  {
   "cell_type": "code",
   "execution_count": 117,
   "id": "0582bafe",
   "metadata": {},
   "outputs": [],
   "source": [
    "from sklearn.model_selection import StratifiedShuffleSplit\n",
    "\n",
    "split = StratifiedShuffleSplit(n_splits=1, test_size=0.2, random_state=42)\n",
    "for train_index, test_index in split.split(data, data['Survived']):\n",
    "    strat_train_set = data.loc[train_index]\n",
    "    strat_test_set = data.loc[test_index]"
   ]
  },
  {
   "cell_type": "code",
   "execution_count": 118,
   "id": "9cee8428",
   "metadata": {},
   "outputs": [
    {
     "data": {
      "text/plain": [
       "0    213\n",
       "1    121\n",
       "Name: Survived, dtype: int64"
      ]
     },
     "execution_count": 118,
     "metadata": {},
     "output_type": "execute_result"
    }
   ],
   "source": [
    "strat_train_set['Survived'].value_counts()"
   ]
  },
  {
   "cell_type": "code",
   "execution_count": 119,
   "id": "9d5783d3",
   "metadata": {},
   "outputs": [
    {
     "data": {
      "text/plain": [
       "0    53\n",
       "1    31\n",
       "Name: Survived, dtype: int64"
      ]
     },
     "execution_count": 119,
     "metadata": {},
     "output_type": "execute_result"
    }
   ],
   "source": [
    "strat_test_set['Survived'].value_counts()"
   ]
  },
  {
   "cell_type": "code",
   "execution_count": 120,
   "id": "e96d7cce",
   "metadata": {},
   "outputs": [],
   "source": [
    "strat_train_features = strat_train_set.drop(columns=['Survived']).copy()\n",
    "strat_train_label = strat_train_set['Survived']"
   ]
  },
  {
   "cell_type": "code",
   "execution_count": 121,
   "id": "00d27eaf",
   "metadata": {},
   "outputs": [
    {
     "data": {
      "text/html": [
       "<div>\n",
       "<style scoped>\n",
       "    .dataframe tbody tr th:only-of-type {\n",
       "        vertical-align: middle;\n",
       "    }\n",
       "\n",
       "    .dataframe tbody tr th {\n",
       "        vertical-align: top;\n",
       "    }\n",
       "\n",
       "    .dataframe thead th {\n",
       "        text-align: right;\n",
       "    }\n",
       "</style>\n",
       "<table border=\"1\" class=\"dataframe\">\n",
       "  <thead>\n",
       "    <tr style=\"text-align: right;\">\n",
       "      <th></th>\n",
       "      <th>PassengerId</th>\n",
       "      <th>Pclass</th>\n",
       "      <th>Name</th>\n",
       "      <th>Sex</th>\n",
       "      <th>Age</th>\n",
       "      <th>SibSp</th>\n",
       "      <th>Parch</th>\n",
       "      <th>Ticket</th>\n",
       "      <th>Fare</th>\n",
       "      <th>Cabin</th>\n",
       "      <th>Embarked</th>\n",
       "    </tr>\n",
       "  </thead>\n",
       "  <tbody>\n",
       "    <tr>\n",
       "      <th>163</th>\n",
       "      <td>1055</td>\n",
       "      <td>3</td>\n",
       "      <td>Pearce, Mr. Ernest</td>\n",
       "      <td>male</td>\n",
       "      <td>NaN</td>\n",
       "      <td>0</td>\n",
       "      <td>0</td>\n",
       "      <td>343271</td>\n",
       "      <td>7.0000</td>\n",
       "      <td>NaN</td>\n",
       "      <td>S</td>\n",
       "    </tr>\n",
       "    <tr>\n",
       "      <th>223</th>\n",
       "      <td>1115</td>\n",
       "      <td>3</td>\n",
       "      <td>Karlsson, Mr. Einar Gervasius</td>\n",
       "      <td>male</td>\n",
       "      <td>21.0</td>\n",
       "      <td>0</td>\n",
       "      <td>0</td>\n",
       "      <td>350053</td>\n",
       "      <td>7.7958</td>\n",
       "      <td>NaN</td>\n",
       "      <td>S</td>\n",
       "    </tr>\n",
       "    <tr>\n",
       "      <th>183</th>\n",
       "      <td>1075</td>\n",
       "      <td>3</td>\n",
       "      <td>Lane, Mr. Patrick</td>\n",
       "      <td>male</td>\n",
       "      <td>NaN</td>\n",
       "      <td>0</td>\n",
       "      <td>0</td>\n",
       "      <td>7935</td>\n",
       "      <td>7.7500</td>\n",
       "      <td>NaN</td>\n",
       "      <td>Q</td>\n",
       "    </tr>\n",
       "    <tr>\n",
       "      <th>21</th>\n",
       "      <td>913</td>\n",
       "      <td>3</td>\n",
       "      <td>Olsen, Master. Artur Karl</td>\n",
       "      <td>male</td>\n",
       "      <td>9.0</td>\n",
       "      <td>0</td>\n",
       "      <td>1</td>\n",
       "      <td>C 17368</td>\n",
       "      <td>3.1708</td>\n",
       "      <td>NaN</td>\n",
       "      <td>S</td>\n",
       "    </tr>\n",
       "    <tr>\n",
       "      <th>111</th>\n",
       "      <td>1003</td>\n",
       "      <td>3</td>\n",
       "      <td>Shine, Miss. Ellen Natalia</td>\n",
       "      <td>female</td>\n",
       "      <td>NaN</td>\n",
       "      <td>0</td>\n",
       "      <td>0</td>\n",
       "      <td>330968</td>\n",
       "      <td>7.7792</td>\n",
       "      <td>NaN</td>\n",
       "      <td>Q</td>\n",
       "    </tr>\n",
       "  </tbody>\n",
       "</table>\n",
       "</div>"
      ],
      "text/plain": [
       "     PassengerId  Pclass                           Name     Sex   Age  SibSp  \\\n",
       "163         1055       3             Pearce, Mr. Ernest    male   NaN      0   \n",
       "223         1115       3  Karlsson, Mr. Einar Gervasius    male  21.0      0   \n",
       "183         1075       3              Lane, Mr. Patrick    male   NaN      0   \n",
       "21           913       3      Olsen, Master. Artur Karl    male   9.0      0   \n",
       "111         1003       3     Shine, Miss. Ellen Natalia  female   NaN      0   \n",
       "\n",
       "     Parch   Ticket    Fare Cabin Embarked  \n",
       "163      0   343271  7.0000   NaN        S  \n",
       "223      0   350053  7.7958   NaN        S  \n",
       "183      0     7935  7.7500   NaN        Q  \n",
       "21       1  C 17368  3.1708   NaN        S  \n",
       "111      0   330968  7.7792   NaN        Q  "
      ]
     },
     "execution_count": 121,
     "metadata": {},
     "output_type": "execute_result"
    }
   ],
   "source": [
    "strat_train_features.head()"
   ]
  },
  {
   "cell_type": "code",
   "execution_count": 122,
   "id": "f48b5a40",
   "metadata": {},
   "outputs": [],
   "source": [
    "strat_train_features = strat_train_features.set_index('PassengerId')"
   ]
  },
  {
   "cell_type": "code",
   "execution_count": 123,
   "id": "dd5699b3",
   "metadata": {},
   "outputs": [
    {
     "data": {
      "text/html": [
       "<div>\n",
       "<style scoped>\n",
       "    .dataframe tbody tr th:only-of-type {\n",
       "        vertical-align: middle;\n",
       "    }\n",
       "\n",
       "    .dataframe tbody tr th {\n",
       "        vertical-align: top;\n",
       "    }\n",
       "\n",
       "    .dataframe thead th {\n",
       "        text-align: right;\n",
       "    }\n",
       "</style>\n",
       "<table border=\"1\" class=\"dataframe\">\n",
       "  <thead>\n",
       "    <tr style=\"text-align: right;\">\n",
       "      <th></th>\n",
       "      <th>Pclass</th>\n",
       "      <th>Age</th>\n",
       "      <th>SibSp</th>\n",
       "      <th>Parch</th>\n",
       "      <th>Fare</th>\n",
       "    </tr>\n",
       "  </thead>\n",
       "  <tbody>\n",
       "    <tr>\n",
       "      <th>count</th>\n",
       "      <td>334.000000</td>\n",
       "      <td>265.000000</td>\n",
       "      <td>334.000000</td>\n",
       "      <td>334.000000</td>\n",
       "      <td>333.000000</td>\n",
       "    </tr>\n",
       "    <tr>\n",
       "      <th>mean</th>\n",
       "      <td>2.272455</td>\n",
       "      <td>30.473585</td>\n",
       "      <td>0.440120</td>\n",
       "      <td>0.380240</td>\n",
       "      <td>36.488014</td>\n",
       "    </tr>\n",
       "    <tr>\n",
       "      <th>std</th>\n",
       "      <td>0.852846</td>\n",
       "      <td>14.346239</td>\n",
       "      <td>0.917469</td>\n",
       "      <td>0.924653</td>\n",
       "      <td>57.950135</td>\n",
       "    </tr>\n",
       "    <tr>\n",
       "      <th>min</th>\n",
       "      <td>1.000000</td>\n",
       "      <td>0.170000</td>\n",
       "      <td>0.000000</td>\n",
       "      <td>0.000000</td>\n",
       "      <td>0.000000</td>\n",
       "    </tr>\n",
       "    <tr>\n",
       "      <th>25%</th>\n",
       "      <td>1.000000</td>\n",
       "      <td>21.000000</td>\n",
       "      <td>0.000000</td>\n",
       "      <td>0.000000</td>\n",
       "      <td>7.879200</td>\n",
       "    </tr>\n",
       "    <tr>\n",
       "      <th>50%</th>\n",
       "      <td>3.000000</td>\n",
       "      <td>27.000000</td>\n",
       "      <td>0.000000</td>\n",
       "      <td>0.000000</td>\n",
       "      <td>13.775000</td>\n",
       "    </tr>\n",
       "    <tr>\n",
       "      <th>75%</th>\n",
       "      <td>3.000000</td>\n",
       "      <td>39.000000</td>\n",
       "      <td>1.000000</td>\n",
       "      <td>0.000000</td>\n",
       "      <td>31.387500</td>\n",
       "    </tr>\n",
       "    <tr>\n",
       "      <th>max</th>\n",
       "      <td>3.000000</td>\n",
       "      <td>76.000000</td>\n",
       "      <td>8.000000</td>\n",
       "      <td>9.000000</td>\n",
       "      <td>512.329200</td>\n",
       "    </tr>\n",
       "  </tbody>\n",
       "</table>\n",
       "</div>"
      ],
      "text/plain": [
       "           Pclass         Age       SibSp       Parch        Fare\n",
       "count  334.000000  265.000000  334.000000  334.000000  333.000000\n",
       "mean     2.272455   30.473585    0.440120    0.380240   36.488014\n",
       "std      0.852846   14.346239    0.917469    0.924653   57.950135\n",
       "min      1.000000    0.170000    0.000000    0.000000    0.000000\n",
       "25%      1.000000   21.000000    0.000000    0.000000    7.879200\n",
       "50%      3.000000   27.000000    0.000000    0.000000   13.775000\n",
       "75%      3.000000   39.000000    1.000000    0.000000   31.387500\n",
       "max      3.000000   76.000000    8.000000    9.000000  512.329200"
      ]
     },
     "execution_count": 123,
     "metadata": {},
     "output_type": "execute_result"
    }
   ],
   "source": [
    "strat_train_features.describe()"
   ]
  },
  {
   "cell_type": "code",
   "execution_count": 124,
   "id": "a966df02",
   "metadata": {},
   "outputs": [
    {
     "data": {
      "text/html": [
       "<div>\n",
       "<style scoped>\n",
       "    .dataframe tbody tr th:only-of-type {\n",
       "        vertical-align: middle;\n",
       "    }\n",
       "\n",
       "    .dataframe tbody tr th {\n",
       "        vertical-align: top;\n",
       "    }\n",
       "\n",
       "    .dataframe thead th {\n",
       "        text-align: right;\n",
       "    }\n",
       "</style>\n",
       "<table border=\"1\" class=\"dataframe\">\n",
       "  <thead>\n",
       "    <tr style=\"text-align: right;\">\n",
       "      <th></th>\n",
       "      <th>Null Values</th>\n",
       "      <th>Null Values %</th>\n",
       "    </tr>\n",
       "  </thead>\n",
       "  <tbody>\n",
       "    <tr>\n",
       "      <th>Cabin</th>\n",
       "      <td>257</td>\n",
       "      <td>0.769461</td>\n",
       "    </tr>\n",
       "    <tr>\n",
       "      <th>Age</th>\n",
       "      <td>69</td>\n",
       "      <td>0.206587</td>\n",
       "    </tr>\n",
       "    <tr>\n",
       "      <th>Fare</th>\n",
       "      <td>1</td>\n",
       "      <td>0.002994</td>\n",
       "    </tr>\n",
       "    <tr>\n",
       "      <th>Pclass</th>\n",
       "      <td>0</td>\n",
       "      <td>0.000000</td>\n",
       "    </tr>\n",
       "    <tr>\n",
       "      <th>Name</th>\n",
       "      <td>0</td>\n",
       "      <td>0.000000</td>\n",
       "    </tr>\n",
       "    <tr>\n",
       "      <th>Sex</th>\n",
       "      <td>0</td>\n",
       "      <td>0.000000</td>\n",
       "    </tr>\n",
       "    <tr>\n",
       "      <th>SibSp</th>\n",
       "      <td>0</td>\n",
       "      <td>0.000000</td>\n",
       "    </tr>\n",
       "    <tr>\n",
       "      <th>Parch</th>\n",
       "      <td>0</td>\n",
       "      <td>0.000000</td>\n",
       "    </tr>\n",
       "    <tr>\n",
       "      <th>Ticket</th>\n",
       "      <td>0</td>\n",
       "      <td>0.000000</td>\n",
       "    </tr>\n",
       "    <tr>\n",
       "      <th>Embarked</th>\n",
       "      <td>0</td>\n",
       "      <td>0.000000</td>\n",
       "    </tr>\n",
       "  </tbody>\n",
       "</table>\n",
       "</div>"
      ],
      "text/plain": [
       "          Null Values  Null Values %\n",
       "Cabin             257       0.769461\n",
       "Age                69       0.206587\n",
       "Fare                1       0.002994\n",
       "Pclass              0       0.000000\n",
       "Name                0       0.000000\n",
       "Sex                 0       0.000000\n",
       "SibSp               0       0.000000\n",
       "Parch               0       0.000000\n",
       "Ticket              0       0.000000\n",
       "Embarked            0       0.000000"
      ]
     },
     "execution_count": 124,
     "metadata": {},
     "output_type": "execute_result"
    }
   ],
   "source": [
    "Null_Values = strat_train_features.isnull().sum().sort_values(ascending=False) \n",
    "Null_Values_Percent = (strat_train_features.isnull().sum()/strat_train_features.isnull().count()).sort_values(ascending=False) \n",
    "Null_Values_data =pd.concat([Null_Values,Null_Values_Percent],axis=1,keys=['Null Values','Null Values %']) \n",
    "Null_Values_data"
   ]
  },
  {
   "cell_type": "code",
   "execution_count": 135,
   "id": "4e51bfb8",
   "metadata": {},
   "outputs": [
    {
     "name": "stdout",
     "output_type": "stream",
     "text": [
      "<class 'pandas.core.frame.DataFrame'>\n",
      "Int64Index: 334 entries, 1055 to 1120\n",
      "Data columns (total 10 columns):\n",
      " #   Column    Non-Null Count  Dtype  \n",
      "---  ------    --------------  -----  \n",
      " 0   Pclass    334 non-null    object \n",
      " 1   Name      334 non-null    object \n",
      " 2   Sex       334 non-null    object \n",
      " 3   Age       265 non-null    float64\n",
      " 4   SibSp     334 non-null    int64  \n",
      " 5   Parch     334 non-null    int64  \n",
      " 6   Ticket    334 non-null    object \n",
      " 7   Fare      333 non-null    float64\n",
      " 8   Cabin     77 non-null     object \n",
      " 9   Embarked  334 non-null    object \n",
      "dtypes: float64(2), int64(2), object(6)\n",
      "memory usage: 28.7+ KB\n"
     ]
    }
   ],
   "source": [
    "strat_train_features['Pclass'] = strat_train_features['Pclass'].astype('O')\n",
    "strat_train_features.info()"
   ]
  },
  {
   "cell_type": "code",
   "execution_count": 173,
   "id": "b4549ea0",
   "metadata": {},
   "outputs": [
    {
     "name": "stdout",
     "output_type": "stream",
     "text": [
      "<class 'pandas.core.series.Series'>\n",
      "Int64Index: 334 entries, 163 to 228\n",
      "Series name: Survived\n",
      "Non-Null Count  Dtype\n",
      "--------------  -----\n",
      "334 non-null    int64\n",
      "dtypes: int64(1)\n",
      "memory usage: 5.2 KB\n"
     ]
    }
   ],
   "source": [
    "strat_train_label.info()"
   ]
  },
  {
   "cell_type": "code",
   "execution_count": 221,
   "id": "7a7d82ee",
   "metadata": {},
   "outputs": [
    {
     "name": "stdout",
     "output_type": "stream",
     "text": [
      "---- Pclass ----\n",
      "\n",
      "3    179\n",
      "1     88\n",
      "2     67\n",
      "Name: Pclass, dtype: int64\n",
      "\n",
      "---- Sex ----\n",
      "\n",
      "male      213\n",
      "female    121\n",
      "Name: Sex, dtype: int64\n",
      "\n",
      "---- Embarked ----\n",
      "\n",
      "S    223\n",
      "C     77\n",
      "Q     34\n",
      "Name: Embarked, dtype: int64\n",
      "\n"
     ]
    }
   ],
   "source": [
    "list_cat = ['Pclass', 'Sex', 'Embarked']\n",
    "\n",
    "for n in list_cat:\n",
    "    attributes = strat_train_features[n].value_counts()\n",
    "    print(\"----\" , n, \"----\")\n",
    "    print()\n",
    "    print(attributes)\n",
    "    print()"
   ]
  },
  {
   "cell_type": "code",
   "execution_count": 137,
   "id": "f9a09871",
   "metadata": {},
   "outputs": [
    {
     "name": "stdout",
     "output_type": "stream",
     "text": [
      "Num Features: ['Age', 'SibSp', 'Parch', 'Fare']\n",
      "Cat Features: ['Pclass', 'Name', 'Sex', 'Ticket', 'Cabin', 'Embarked']\n"
     ]
    }
   ],
   "source": [
    "print(f\"Num Features: {list(strat_train_features.select_dtypes(include=['int64', 'float64']))}\")\n",
    "print(f\"Cat Features: {list(strat_train_features.select_dtypes(include=['O']))}\")"
   ]
  },
  {
   "cell_type": "code",
   "execution_count": 136,
   "id": "daa42145",
   "metadata": {},
   "outputs": [
    {
     "data": {
      "text/plain": [
       "<AxesSubplot:>"
      ]
     },
     "execution_count": 136,
     "metadata": {},
     "output_type": "execute_result"
    },
    {
     "data": {
      "image/png": "[encoded data removed]",
      "text/plain": [
       "<Figure size 1080x576 with 2 Axes>"
      ]
     },
     "metadata": {
      "needs_background": "light"
     },
     "output_type": "display_data"
    }
   ],
   "source": [
    "plt.figure(figsize=(15,8))\n",
    "sns.heatmap(strat_train_set.corr(),annot=True,cmap=\"RdYlGn\")"
   ]
  },
  {
   "cell_type": "markdown",
   "id": "4dea4799",
   "metadata": {},
   "source": [
    "# Pipeline"
   ]
  },
  {
   "cell_type": "code",
   "execution_count": 208,
   "id": "94b1c56e",
   "metadata": {},
   "outputs": [
    {
     "data": {
      "text/plain": [
       "(334, 12)"
      ]
     },
     "execution_count": 208,
     "metadata": {},
     "output_type": "execute_result"
    }
   ],
   "source": [
    "from sklearn.compose import ColumnTransformer\n",
    "from sklearn.pipeline import Pipeline\n",
    "from sklearn.impute import SimpleImputer\n",
    "from sklearn.preprocessing import StandardScaler\n",
    "from sklearn.preprocessing import OneHotEncoder\n",
    "\n",
    "num_pipeline = Pipeline([('imputer', SimpleImputer(strategy='median')), \n",
    "                          ('std_scaler', StandardScaler())])\n",
    "cat_pipeline = Pipeline([('imputer', SimpleImputer(strategy='most_frequent')),\n",
    "                        ('cat_encoder', OneHotEncoder(sparse=False))])\n",
    "num_attribs = ['Age', 'SibSp', 'Parch', 'Fare']\n",
    "cat_attribs = ['Pclass', 'Sex' ,'Embarked']\n",
    "\n",
    "full_pipeline = ColumnTransformer([\n",
    "        ('num', num_pipeline, num_attribs),\n",
    "        ('cat', cat_pipeline, cat_attribs)\n",
    "    ])\n",
    "\n",
    "Final_train_prepared = full_pipeline.fit_transform(strat_train_features)\n",
    "Final_train_prepared.shape"
   ]
  },
  {
   "cell_type": "markdown",
   "id": "c7fa6015",
   "metadata": {},
   "source": [
    "# RandomForest Classifier"
   ]
  },
  {
   "cell_type": "code",
   "execution_count": 183,
   "id": "74e1fc00",
   "metadata": {},
   "outputs": [
    {
     "data": {
      "text/plain": [
       "array([[1.  , 0.  ],\n",
       "       [1.  , 0.  ],\n",
       "       [1.  , 0.  ],\n",
       "       [0.99, 0.01],\n",
       "       [0.  , 1.  ]])"
      ]
     },
     "execution_count": 183,
     "metadata": {},
     "output_type": "execute_result"
    }
   ],
   "source": [
    "from sklearn.ensemble import RandomForestClassifier\n",
    "from sklearn.model_selection import cross_val_predict\n",
    "forest_clf = RandomForestClassifier(random_state=45)\n",
    "forest_clf_predict_proba = cross_val_predict(forest_clf, Final_train_prepared, strat_train_label, cv=3,\n",
    " method=\"predict_proba\")\n",
    "forest_clf_predict_proba[:5]"
   ]
  },
  {
   "cell_type": "code",
   "execution_count": 184,
   "id": "c996c68f",
   "metadata": {},
   "outputs": [
    {
     "data": {
      "text/plain": [
       "array([0, 0, 0, 0, 1], dtype=int64)"
      ]
     },
     "execution_count": 184,
     "metadata": {},
     "output_type": "execute_result"
    }
   ],
   "source": [
    "forest_clf.fit(Final_train_prepared, strat_train_label)\n",
    "y_forest_predictions = cross_val_predict(forest_clf, Final_train_prepared, strat_train_label, cv=3)\n",
    "y_forest_predictions[:5]"
   ]
  },
  {
   "cell_type": "markdown",
   "id": "866d117d",
   "metadata": {},
   "source": [
    "# Cross Validation Score"
   ]
  },
  {
   "cell_type": "code",
   "execution_count": 185,
   "id": "f11089f0",
   "metadata": {},
   "outputs": [
    {
     "data": {
      "text/plain": [
       "array([1., 1., 1., 1., 1.])"
      ]
     },
     "execution_count": 185,
     "metadata": {},
     "output_type": "execute_result"
    }
   ],
   "source": [
    "from sklearn.model_selection import cross_val_score\n",
    "cross_val_score(forest_clf, Final_train_prepared, strat_train_label, cv=5, scoring=\"accuracy\")"
   ]
  },
  {
   "cell_type": "markdown",
   "id": "8ea2f6e1",
   "metadata": {},
   "source": [
    "# F1 Score"
   ]
  },
  {
   "cell_type": "code",
   "execution_count": 186,
   "id": "8e388935",
   "metadata": {},
   "outputs": [
    {
     "name": "stdout",
     "output_type": "stream",
     "text": [
      "F1 Score: 1.0\n"
     ]
    }
   ],
   "source": [
    "from sklearn.metrics import f1_score\n",
    "print(f\"F1 Score: {f1_score(strat_train_label, y_forest_predictions)}\")"
   ]
  },
  {
   "cell_type": "markdown",
   "id": "bb69cc6e",
   "metadata": {},
   "source": [
    "# Precision/Recall"
   ]
  },
  {
   "cell_type": "code",
   "execution_count": 187,
   "id": "5ffc2edc",
   "metadata": {},
   "outputs": [
    {
     "name": "stdout",
     "output_type": "stream",
     "text": [
      "Precision score: 1.0\n",
      "Recall score: 1.0\n"
     ]
    }
   ],
   "source": [
    "from sklearn.metrics import precision_score, recall_score\n",
    "print(f\"Precision score: {precision_score(strat_train_label, y_forest_predictions)}\")\n",
    "print(f\"Recall score: {recall_score(strat_train_label, y_forest_predictions)}\")"
   ]
  },
  {
   "cell_type": "markdown",
   "id": "a6cb59a4",
   "metadata": {},
   "source": [
    "# ROC AUC"
   ]
  },
  {
   "cell_type": "code",
   "execution_count": 188,
   "id": "1bfc81f1",
   "metadata": {},
   "outputs": [
    {
     "name": "stdout",
     "output_type": "stream",
     "text": [
      "ROC AUC Score: 1.0\n"
     ]
    }
   ],
   "source": [
    "from sklearn.metrics import roc_auc_score\n",
    "y_scores_forest = forest_clf_predict_proba[:, 1]\n",
    "print(f\"ROC AUC Score: {roc_auc_score(strat_train_label, y_scores_forest)}\")"
   ]
  },
  {
   "cell_type": "markdown",
   "id": "d30d6866",
   "metadata": {},
   "source": [
    "# Confusion Matrix"
   ]
  },
  {
   "cell_type": "code",
   "execution_count": 210,
   "id": "3633de59",
   "metadata": {
    "scrolled": true
   },
   "outputs": [
    {
     "data": {
      "text/plain": [
       "array([[213,   0],\n",
       "       [  0, 121]], dtype=int64)"
      ]
     },
     "execution_count": 210,
     "metadata": {},
     "output_type": "execute_result"
    }
   ],
   "source": [
    "from sklearn.metrics import confusion_matrix\n",
    "confusion_matrix(strat_train_label, y_forest_predictions)"
   ]
  },
  {
   "cell_type": "markdown",
   "id": "50cf56db",
   "metadata": {},
   "source": [
    "# Cross Validation on test set"
   ]
  },
  {
   "cell_type": "code",
   "execution_count": 189,
   "id": "0e906538",
   "metadata": {},
   "outputs": [],
   "source": [
    "strat_test_features = strat_test_set.drop(columns=['Survived']).copy()\n",
    "strat_test_label = strat_test_set['Survived']"
   ]
  },
  {
   "cell_type": "code",
   "execution_count": 170,
   "id": "e9b769ca",
   "metadata": {},
   "outputs": [
    {
     "data": {
      "text/html": [
       "<div>\n",
       "<style scoped>\n",
       "    .dataframe tbody tr th:only-of-type {\n",
       "        vertical-align: middle;\n",
       "    }\n",
       "\n",
       "    .dataframe tbody tr th {\n",
       "        vertical-align: top;\n",
       "    }\n",
       "\n",
       "    .dataframe thead th {\n",
       "        text-align: right;\n",
       "    }\n",
       "</style>\n",
       "<table border=\"1\" class=\"dataframe\">\n",
       "  <thead>\n",
       "    <tr style=\"text-align: right;\">\n",
       "      <th></th>\n",
       "      <th>Pclass</th>\n",
       "      <th>Name</th>\n",
       "      <th>Sex</th>\n",
       "      <th>Age</th>\n",
       "      <th>SibSp</th>\n",
       "      <th>Parch</th>\n",
       "      <th>Ticket</th>\n",
       "      <th>Fare</th>\n",
       "      <th>Cabin</th>\n",
       "      <th>Embarked</th>\n",
       "    </tr>\n",
       "    <tr>\n",
       "      <th>PassengerId</th>\n",
       "      <th></th>\n",
       "      <th></th>\n",
       "      <th></th>\n",
       "      <th></th>\n",
       "      <th></th>\n",
       "      <th></th>\n",
       "      <th></th>\n",
       "      <th></th>\n",
       "      <th></th>\n",
       "      <th></th>\n",
       "    </tr>\n",
       "  </thead>\n",
       "  <tbody>\n",
       "    <tr>\n",
       "      <th>1302</th>\n",
       "      <td>3</td>\n",
       "      <td>Naughton, Miss. Hannah</td>\n",
       "      <td>female</td>\n",
       "      <td>NaN</td>\n",
       "      <td>0</td>\n",
       "      <td>0</td>\n",
       "      <td>365237</td>\n",
       "      <td>7.7500</td>\n",
       "      <td>NaN</td>\n",
       "      <td>Q</td>\n",
       "    </tr>\n",
       "    <tr>\n",
       "      <th>1256</th>\n",
       "      <td>1</td>\n",
       "      <td>Harder, Mrs. George Achilles (Dorothy Annan)</td>\n",
       "      <td>female</td>\n",
       "      <td>25.0</td>\n",
       "      <td>1</td>\n",
       "      <td>0</td>\n",
       "      <td>11765</td>\n",
       "      <td>55.4417</td>\n",
       "      <td>E50</td>\n",
       "      <td>C</td>\n",
       "    </tr>\n",
       "    <tr>\n",
       "      <th>1226</th>\n",
       "      <td>3</td>\n",
       "      <td>Cor, Mr. Ivan</td>\n",
       "      <td>male</td>\n",
       "      <td>27.0</td>\n",
       "      <td>0</td>\n",
       "      <td>0</td>\n",
       "      <td>349229</td>\n",
       "      <td>7.8958</td>\n",
       "      <td>NaN</td>\n",
       "      <td>S</td>\n",
       "    </tr>\n",
       "    <tr>\n",
       "      <th>1068</th>\n",
       "      <td>2</td>\n",
       "      <td>Sincock, Miss. Maude</td>\n",
       "      <td>female</td>\n",
       "      <td>20.0</td>\n",
       "      <td>0</td>\n",
       "      <td>0</td>\n",
       "      <td>C.A. 33112</td>\n",
       "      <td>36.7500</td>\n",
       "      <td>NaN</td>\n",
       "      <td>S</td>\n",
       "    </tr>\n",
       "    <tr>\n",
       "      <th>986</th>\n",
       "      <td>1</td>\n",
       "      <td>Birnbaum, Mr. Jakob</td>\n",
       "      <td>male</td>\n",
       "      <td>25.0</td>\n",
       "      <td>0</td>\n",
       "      <td>0</td>\n",
       "      <td>13905</td>\n",
       "      <td>26.0000</td>\n",
       "      <td>NaN</td>\n",
       "      <td>C</td>\n",
       "    </tr>\n",
       "  </tbody>\n",
       "</table>\n",
       "</div>"
      ],
      "text/plain": [
       "            Pclass                                          Name     Sex  \\\n",
       "PassengerId                                                                \n",
       "1302             3                        Naughton, Miss. Hannah  female   \n",
       "1256             1  Harder, Mrs. George Achilles (Dorothy Annan)  female   \n",
       "1226             3                                 Cor, Mr. Ivan    male   \n",
       "1068             2                          Sincock, Miss. Maude  female   \n",
       "986              1                           Birnbaum, Mr. Jakob    male   \n",
       "\n",
       "              Age  SibSp  Parch      Ticket     Fare Cabin Embarked  \n",
       "PassengerId                                                          \n",
       "1302          NaN      0      0      365237   7.7500   NaN        Q  \n",
       "1256         25.0      1      0       11765  55.4417   E50        C  \n",
       "1226         27.0      0      0      349229   7.8958   NaN        S  \n",
       "1068         20.0      0      0  C.A. 33112  36.7500   NaN        S  \n",
       "986          25.0      0      0       13905  26.0000   NaN        C  "
      ]
     },
     "execution_count": 170,
     "metadata": {},
     "output_type": "execute_result"
    }
   ],
   "source": [
    "strat_test_features = strat_test_features.set_index('PassengerId')\n",
    "strat_test_features.head()"
   ]
  },
  {
   "cell_type": "code",
   "execution_count": 171,
   "id": "858f8734",
   "metadata": {},
   "outputs": [
    {
     "data": {
      "text/plain": [
       "410    1\n",
       "364    1\n",
       "334    0\n",
       "176    1\n",
       "94     0\n",
       "Name: Survived, dtype: int64"
      ]
     },
     "execution_count": 171,
     "metadata": {},
     "output_type": "execute_result"
    }
   ],
   "source": [
    "strat_test_label.head()"
   ]
  },
  {
   "cell_type": "code",
   "execution_count": 167,
   "id": "f6bbda2c",
   "metadata": {},
   "outputs": [
    {
     "name": "stdout",
     "output_type": "stream",
     "text": [
      "<class 'pandas.core.frame.DataFrame'>\n",
      "Int64Index: 84 entries, 1302 to 1010\n",
      "Data columns (total 10 columns):\n",
      " #   Column    Non-Null Count  Dtype  \n",
      "---  ------    --------------  -----  \n",
      " 0   Pclass    84 non-null     object \n",
      " 1   Name      84 non-null     object \n",
      " 2   Sex       84 non-null     object \n",
      " 3   Age       67 non-null     float64\n",
      " 4   SibSp     84 non-null     int64  \n",
      " 5   Parch     84 non-null     int64  \n",
      " 6   Ticket    84 non-null     object \n",
      " 7   Fare      84 non-null     float64\n",
      " 8   Cabin     14 non-null     object \n",
      " 9   Embarked  84 non-null     object \n",
      "dtypes: float64(2), int64(2), object(6)\n",
      "memory usage: 7.2+ KB\n"
     ]
    }
   ],
   "source": [
    "strat_test_features['Pclass'] = strat_test_features['Pclass'].astype('O')\n",
    "strat_test_features.info()"
   ]
  },
  {
   "cell_type": "code",
   "execution_count": 174,
   "id": "60b28763",
   "metadata": {},
   "outputs": [
    {
     "name": "stdout",
     "output_type": "stream",
     "text": [
      "Num Features: ['Age', 'SibSp', 'Parch', 'Fare']\n",
      "Cat Features: ['Pclass', 'Name', 'Sex', 'Ticket', 'Cabin', 'Embarked']\n"
     ]
    }
   ],
   "source": [
    "print(f\"Num Features: {list(strat_test_features.select_dtypes(include=['int64', 'float64']))}\")\n",
    "print(f\"Cat Features: {list(strat_test_features.select_dtypes(include=['O']))}\")"
   ]
  },
  {
   "cell_type": "code",
   "execution_count": 190,
   "id": "69425820",
   "metadata": {},
   "outputs": [
    {
     "data": {
      "text/plain": [
       "(84, 12)"
      ]
     },
     "execution_count": 190,
     "metadata": {},
     "output_type": "execute_result"
    }
   ],
   "source": [
    "from sklearn.compose import ColumnTransformer\n",
    "from sklearn.pipeline import Pipeline\n",
    "from sklearn.impute import SimpleImputer\n",
    "from sklearn.preprocessing import StandardScaler\n",
    "from sklearn.preprocessing import OneHotEncoder\n",
    "\n",
    "num_pipeline = Pipeline([('imputer', SimpleImputer(strategy='median')), \n",
    "                          ('std_scaler', StandardScaler())])\n",
    "cat_pipeline = Pipeline([('imputer', SimpleImputer(strategy='most_frequent')),\n",
    "                        ('cat_encoder', OneHotEncoder(sparse=False))])\n",
    "num_attribs = ['Age', 'SibSp', 'Parch', 'Fare']\n",
    "cat_attribs = ['Pclass', 'Sex' ,'Embarked']\n",
    "\n",
    "full_pipeline = ColumnTransformer([\n",
    "        ('num', num_pipeline, num_attribs),\n",
    "        ('cat', cat_pipeline, cat_attribs)\n",
    "    ])\n",
    "\n",
    "Final_test_prepared = full_pipeline.fit_transform(strat_test_features)\n",
    "Final_test_prepared.shape"
   ]
  },
  {
   "cell_type": "code",
   "execution_count": 191,
   "id": "3196d849",
   "metadata": {},
   "outputs": [
    {
     "data": {
      "text/plain": [
       "array([[-0.09776344, -0.58874481, -0.37369925, -0.52255011,  0.        ,\n",
       "         0.        ,  1.        ,  1.        ,  0.        ,  0.        ,\n",
       "         1.        ,  0.        ],\n",
       "       [-0.34661583,  0.64761929, -0.37369925,  0.49611647,  1.        ,\n",
       "         0.        ,  0.        ,  1.        ,  0.        ,  1.        ,\n",
       "         0.        ,  0.        ],\n",
       "       [-0.18071423, -0.58874481, -0.37369925, -0.51943591,  0.        ,\n",
       "         0.        ,  1.        ,  0.        ,  1.        ,  0.        ,\n",
       "         0.        ,  1.        ],\n",
       "       [-0.76136981, -0.58874481, -0.37369925,  0.09687278,  0.        ,\n",
       "         1.        ,  0.        ,  1.        ,  0.        ,  0.        ,\n",
       "         0.        ,  1.        ],\n",
       "       [-0.34661583, -0.58874481, -0.37369925, -0.13274088,  1.        ,\n",
       "         0.        ,  0.        ,  0.        ,  1.        ,  1.        ,\n",
       "         0.        ,  0.        ]])"
      ]
     },
     "execution_count": 191,
     "metadata": {},
     "output_type": "execute_result"
    }
   ],
   "source": [
    "Final_test_prepared[:5]"
   ]
  },
  {
   "cell_type": "code",
   "execution_count": 202,
   "id": "66ad14a6",
   "metadata": {},
   "outputs": [
    {
     "data": {
      "text/plain": [
       "array([1, 1, 0, 1, 0], dtype=int64)"
      ]
     },
     "execution_count": 202,
     "metadata": {},
     "output_type": "execute_result"
    }
   ],
   "source": [
    "from sklearn.ensemble import RandomForestClassifier\n",
    "from sklearn.model_selection import cross_val_predict\n",
    "\n",
    "forest_clf = RandomForestClassifier(n_estimators = 100, random_state=45)\n",
    "y_forest_predictions_test = cross_val_predict(forest_clf, Final_test_prepared, strat_test_label, cv=3)\n",
    "y_forest_predictions_test[:5]"
   ]
  },
  {
   "cell_type": "code",
   "execution_count": 203,
   "id": "5b4247fb",
   "metadata": {},
   "outputs": [
    {
     "data": {
      "text/plain": [
       "array([1, 1, 0, 1, 0, 0, 0, 1, 1, 1, 0, 0, 1, 0, 0, 0, 0, 1, 0, 0, 0, 0,\n",
       "       0, 0, 0, 1, 0, 0, 0, 0, 1, 0, 0, 1, 0, 0, 1, 0, 0, 0, 0, 1, 1, 1,\n",
       "       0, 0, 0, 0, 0, 0, 0, 1, 1, 1, 0, 1, 1, 0, 0, 0, 1, 1, 0, 0, 1, 1,\n",
       "       0, 1, 1, 1, 0, 0, 1, 0, 0, 0, 0, 1, 0, 1, 1, 0, 0, 0], dtype=int64)"
      ]
     },
     "execution_count": 203,
     "metadata": {},
     "output_type": "execute_result"
    }
   ],
   "source": [
    "from sklearn.ensemble import RandomForestClassifier\n",
    "\n",
    "forest_clf = RandomForestClassifier(n_estimators = 100, random_state=45)\n",
    "forest_clf.fit(Final_train_prepared, strat_train_label)\n",
    "forest_clf.predict(Final_test_prepared)"
   ]
  },
  {
   "cell_type": "markdown",
   "id": "4b4ca89a",
   "metadata": {},
   "source": [
    "# Cross Validation Score"
   ]
  },
  {
   "cell_type": "code",
   "execution_count": 204,
   "id": "d759e0b0",
   "metadata": {},
   "outputs": [
    {
     "data": {
      "text/plain": [
       "array([1., 1., 1., 1., 1.])"
      ]
     },
     "execution_count": 204,
     "metadata": {},
     "output_type": "execute_result"
    }
   ],
   "source": [
    "from sklearn.model_selection import cross_val_score\n",
    "cross_val_score(forest_clf, Final_test_prepared, strat_test_label, cv=5, scoring=\"accuracy\")"
   ]
  },
  {
   "cell_type": "markdown",
   "id": "50d465c0",
   "metadata": {},
   "source": [
    "# F1 Score"
   ]
  },
  {
   "cell_type": "code",
   "execution_count": 205,
   "id": "30ee0a65",
   "metadata": {},
   "outputs": [
    {
     "name": "stdout",
     "output_type": "stream",
     "text": [
      "F1 Score: 1.0\n"
     ]
    }
   ],
   "source": [
    "from sklearn.metrics import f1_score\n",
    "print(f\"F1 Score: {f1_score(strat_test_label, y_forest_predictions_test)}\")"
   ]
  },
  {
   "cell_type": "markdown",
   "id": "cb8e85ca",
   "metadata": {},
   "source": [
    "# Confusion Matrix"
   ]
  },
  {
   "cell_type": "code",
   "execution_count": 209,
   "id": "01280632",
   "metadata": {},
   "outputs": [
    {
     "data": {
      "text/plain": [
       "array([[53,  0],\n",
       "       [ 0, 31]], dtype=int64)"
      ]
     },
     "execution_count": 209,
     "metadata": {},
     "output_type": "execute_result"
    }
   ],
   "source": [
    "from sklearn.metrics import confusion_matrix\n",
    "confusion_matrix(strat_test_label, y_forest_predictions_test)"
   ]
  },
  {
   "cell_type": "code",
   "execution_count": 231,
   "id": "22d5a2b4",
   "metadata": {},
   "outputs": [
    {
     "data": {
      "text/plain": [
       "Age_group\n",
       "0     0.406250\n",
       "15    0.380952\n",
       "30    0.350000\n",
       "45    0.439024\n",
       "60    0.300000\n",
       "75    1.000000\n",
       "Name: Survived, dtype: float64"
      ]
     },
     "execution_count": 231,
     "metadata": {},
     "output_type": "execute_result"
    }
   ],
   "source": [
    "data['Age_group'] = pd.cut(data['Age'], bins=[0., 15., 30., 45., 60., 75., np.inf], labels=[0, 15, 30, 45, 60, 75])\n",
    "data.groupby(['Age_group']).mean()['Survived']"
   ]
  },
  {
   "cell_type": "markdown",
   "id": "3af73b39",
   "metadata": {},
   "source": [
    "# Feature Engineering"
   ]
  },
  {
   "cell_type": "code",
   "execution_count": 237,
   "id": "4b92b89b",
   "metadata": {},
   "outputs": [
    {
     "data": {
      "text/plain": [
       "Age_group\n",
       "0     13\n",
       "15    64\n",
       "30    28\n",
       "45    18\n",
       "60     3\n",
       "75     1\n",
       "Name: Survived, dtype: int64"
      ]
     },
     "execution_count": 237,
     "metadata": {},
     "output_type": "execute_result"
    }
   ],
   "source": [
    "data[data['Survived'] == 1].groupby(['Age_group']).count()['Survived']"
   ]
  },
  {
   "cell_type": "code",
   "execution_count": null,
   "id": "d5f26ebb",
   "metadata": {},
   "outputs": [],
   "source": []
  },
  {
   "cell_type": "code",
   "execution_count": null,
   "id": "2456bbf8",
   "metadata": {},
   "outputs": [],
   "source": []
  }
 ],
 "metadata": {
  "kernelspec": {
   "display_name": "Python 3 (ipykernel)",
   "language": "python",
   "name": "python3"
  },
  "language_info": {
   "codemirror_mode": {
    "name": "ipython",
    "version": 3
   },
   "file_extension": ".py",
   "mimetype": "text/x-python",
   "name": "python",
   "nbconvert_exporter": "python",
   "pygments_lexer": "ipython3",
   "version": "3.9.12"
  }
 },
 "nbformat": 4,
 "nbformat_minor": 5
}

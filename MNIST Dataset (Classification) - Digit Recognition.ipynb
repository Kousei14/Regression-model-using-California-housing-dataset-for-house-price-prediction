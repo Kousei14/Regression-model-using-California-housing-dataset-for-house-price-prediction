{
 "cells": [
  {
   "cell_type": "markdown",
   "id": "35a1e4d1",
   "metadata": {},
   "source": [
    "# Necessary Imports"
   ]
  },
  {
   "cell_type": "code",
   "execution_count": 2,
   "id": "24e3a90b",
   "metadata": {},
   "outputs": [],
   "source": [
    "import sys\n",
    "assert sys.version_info >= (3, 5)\n",
    "import numpy as np\n",
    "import os\n",
    "\n",
    "np.random.seed(42) # to allow stable runs\n",
    "\n",
    "# To plot the pictures\n",
    "%matplotlib inline\n",
    "import matplotlib as mpl\n",
    "import matplotlib.pyplot as plt\n",
    "mpl.rc('axes', labelsize=14)\n",
    "mpl.rc('xtick', labelsize=12)\n",
    "mpl.rc('ytick', labelsize=12)\n",
    "\n",
    "# Where to save the figures\n",
    "PROJECT_ROOT_DIR = \".\"\n",
    "CHAPTER_ID = \"classification\"\n",
    "IMAGES_PATH = os.path.join(PROJECT_ROOT_DIR, \"images\", CHAPTER_ID)\n",
    "os.makedirs(IMAGES_PATH, exist_ok=True)\n",
    "\n",
    "def save_fig(fig_id, tight_layout=True, fig_extension=\"png\", resolution=300):\n",
    "    path = os.path.join(IMAGES_PATH, fig_id + \".\" + fig_extension)\n",
    "    print(\"Saving figure\", fig_id)\n",
    "    if tight_layout:\n",
    "        plt.tight_layout()\n",
    "    plt.savefig(path, format=fig_extension, dpi=resolution)"
   ]
  },
  {
   "cell_type": "markdown",
   "id": "88f7e158",
   "metadata": {},
   "source": [
    "# 1. Separate the Features and label"
   ]
  },
  {
   "cell_type": "code",
   "execution_count": 3,
   "id": "68be5f6e",
   "metadata": {},
   "outputs": [
    {
     "data": {
      "text/plain": [
       "(70000, 784)"
      ]
     },
     "execution_count": 3,
     "metadata": {},
     "output_type": "execute_result"
    }
   ],
   "source": [
    "from sklearn.datasets import fetch_openml\n",
    "mnist = fetch_openml('mnist_784', version=1, as_frame=False)\n",
    "mnist.keys()\n",
    "\n",
    "X, y = mnist[\"data\"], mnist[\"target\"]\n",
    "X.shape"
   ]
  },
  {
   "cell_type": "markdown",
   "id": "a62983d9",
   "metadata": {},
   "source": [
    "# 2. Plots the first instance in the dataset"
   ]
  },
  {
   "cell_type": "code",
   "execution_count": 4,
   "id": "e90005af",
   "metadata": {},
   "outputs": [
    {
     "name": "stdout",
     "output_type": "stream",
     "text": [
      "Saving figure some_digit_plot\n"
     ]
    },
    {
     "data": {
      "image/png": "[encoded data removed]",
      "text/plain": [
       "<Figure size 432x288 with 1 Axes>"
      ]
     },
     "metadata": {
      "needs_background": "light"
     },
     "output_type": "display_data"
    }
   ],
   "source": [
    "%matplotlib inline\n",
    "import matplotlib as mpl\n",
    "import matplotlib.pyplot as plt\n",
    "\n",
    "some_digit = X[0]\n",
    "some_digit_image = some_digit.reshape(28, 28)\n",
    "plt.imshow(some_digit_image, cmap=mpl.cm.binary)\n",
    "plt.axis(\"off\")\n",
    "\n",
    "save_fig(\"some_digit_plot\")\n",
    "plt.show()"
   ]
  },
  {
   "cell_type": "code",
   "execution_count": 5,
   "id": "fa36fce7",
   "metadata": {},
   "outputs": [
    {
     "data": {
      "text/plain": [
       "'5'"
      ]
     },
     "execution_count": 5,
     "metadata": {},
     "output_type": "execute_result"
    }
   ],
   "source": [
    "y[0] # The first instance in the label column is 5"
   ]
  },
  {
   "cell_type": "markdown",
   "id": "ee2573bf",
   "metadata": {},
   "source": [
    "# 3. Convert label into integer type"
   ]
  },
  {
   "cell_type": "code",
   "execution_count": 6,
   "id": "45364e93",
   "metadata": {},
   "outputs": [
    {
     "data": {
      "text/plain": [
       "dtype('uint8')"
      ]
     },
     "execution_count": 6,
     "metadata": {},
     "output_type": "execute_result"
    }
   ],
   "source": [
    "y = y.astype(np.uint8)\n",
    "y.dtype"
   ]
  },
  {
   "cell_type": "markdown",
   "id": "418acf44",
   "metadata": {},
   "source": [
    "# 4. Train/test split"
   ]
  },
  {
   "cell_type": "code",
   "execution_count": 7,
   "id": "9115bfac",
   "metadata": {},
   "outputs": [],
   "source": [
    "X_train, X_test, y_train, y_test = X[:60000], X[60000:], y[:60000], y[60000:]"
   ]
  },
  {
   "cell_type": "markdown",
   "id": "1769527a",
   "metadata": {},
   "source": [
    "# 5. Model Training"
   ]
  },
  {
   "cell_type": "code",
   "execution_count": 8,
   "id": "25607861",
   "metadata": {},
   "outputs": [
    {
     "data": {
      "text/plain": [
       "array([5, 5, 5, 5, 5], dtype=uint8)"
      ]
     },
     "execution_count": 8,
     "metadata": {},
     "output_type": "execute_result"
    }
   ],
   "source": [
    "# For this binary classification, we only assume to results. Whether an instance will be five or not five\n",
    "y_train_5 = (y_train == 5)\n",
    "y_test_5 = (y_test == 5)\n",
    "y_train[y_train_5][:5]"
   ]
  },
  {
   "cell_type": "markdown",
   "id": "07ed5b3c",
   "metadata": {},
   "source": [
    "# 5.1 Binary Classification"
   ]
  },
  {
   "cell_type": "markdown",
   "id": "1cb65e08",
   "metadata": {},
   "source": [
    "## SGD Classifier"
   ]
  },
  {
   "cell_type": "code",
   "execution_count": 9,
   "id": "b206d7b7",
   "metadata": {},
   "outputs": [
    {
     "data": {
      "text/plain": [
       "SGDClassifier(random_state=42)"
      ]
     },
     "execution_count": 9,
     "metadata": {},
     "output_type": "execute_result"
    }
   ],
   "source": [
    "# We use SGD Classifier as our model. Stochastic Gradient Descent is great in handling large datasets\n",
    "from sklearn.linear_model import SGDClassifier\n",
    "sgd_clf = SGDClassifier(random_state=42)\n",
    "sgd_clf.fit(X_train, y_train_5)"
   ]
  },
  {
   "cell_type": "code",
   "execution_count": 10,
   "id": "48816d53",
   "metadata": {},
   "outputs": [
    {
     "data": {
      "text/plain": [
       "array([ True])"
      ]
     },
     "execution_count": 10,
     "metadata": {},
     "output_type": "execute_result"
    }
   ],
   "source": [
    "# Predicts the first instance as 5\n",
    "sgd_clf.predict([X[0]]) "
   ]
  },
  {
   "cell_type": "markdown",
   "id": "bfb1c4b4",
   "metadata": {},
   "source": [
    "### Cross validation"
   ]
  },
  {
   "cell_type": "code",
   "execution_count": 11,
   "id": "225c734d",
   "metadata": {},
   "outputs": [
    {
     "data": {
      "text/plain": [
       "array([0.95466667, 0.96975   , 0.9635    , 0.96533333, 0.94841667])"
      ]
     },
     "execution_count": 11,
     "metadata": {},
     "output_type": "execute_result"
    }
   ],
   "source": [
    "#Cross Validation Score (Accuracy)\n",
    "\n",
    "from sklearn.model_selection import cross_val_score\n",
    "cross_val_score(sgd_clf, X_train, y_train_5, cv=5, scoring=\"accuracy\")"
   ]
  },
  {
   "cell_type": "markdown",
   "id": "9918a347",
   "metadata": {},
   "source": [
    "### --- Stratified KFold (Not ideal for classifiers)"
   ]
  },
  {
   "cell_type": "code",
   "execution_count": 12,
   "id": "e0603d0f",
   "metadata": {},
   "outputs": [
    {
     "name": "stdout",
     "output_type": "stream",
     "text": [
      "0.9669\n",
      "0.91625\n",
      "0.96785\n"
     ]
    }
   ],
   "source": [
    "# Stratified Kfold allows cross-validation with equal partitions of each class in the dataset\n",
    "\n",
    "from sklearn.model_selection import StratifiedKFold\n",
    "from sklearn.base import clone\n",
    "\n",
    "# Call out the function\n",
    "\n",
    "skfolds = StratifiedKFold(n_splits=3, shuffle=True, random_state=42)\n",
    "\n",
    "\n",
    "for train_index, test_index in skfolds.split(X_train, y_train_5):\n",
    "    clone_clf = clone(sgd_clf)\n",
    "    X_train_folds = X_train[train_index]\n",
    "    y_train_folds = y_train_5[train_index]\n",
    "    X_test_fold = X_train[test_index]\n",
    "    y_test_fold = y_train_5[test_index]\n",
    "\n",
    "    clone_clf.fit(X_train_folds, y_train_folds)\n",
    "    y_pred = clone_clf.predict(X_test_fold)\n",
    "    n_correct = sum(y_pred == y_test_fold)\n",
    "    print(n_correct / len(y_pred))\n",
    "    \n",
    "# For every iteration/fold, it creates a clone of the model, and fit the model to that train data fold. Then, we compute the accuracy\n",
    "# by dividing the correct predictions with the total no. of predictions"
   ]
  },
  {
   "cell_type": "markdown",
   "id": "e9506f09",
   "metadata": {},
   "source": [
    "### --- Confusion Matrix "
   ]
  },
  {
   "cell_type": "code",
   "execution_count": 13,
   "id": "870e3db9",
   "metadata": {},
   "outputs": [
    {
     "data": {
      "text/plain": [
       "array([[53892,   687],\n",
       "       [ 1891,  3530]], dtype=int64)"
      ]
     },
     "execution_count": 13,
     "metadata": {},
     "output_type": "execute_result"
    }
   ],
   "source": [
    "from sklearn.model_selection import cross_val_predict\n",
    "y_train_pred = cross_val_predict(sgd_clf, X_train, y_train_5, cv=3)\n",
    "\n",
    "from sklearn.metrics import confusion_matrix\n",
    "confusion_matrix(y_train_5, y_train_pred)"
   ]
  },
  {
   "cell_type": "markdown",
   "id": "3e609bd9",
   "metadata": {},
   "source": [
    "### --- Precision/Recall Score"
   ]
  },
  {
   "cell_type": "code",
   "execution_count": 15,
   "id": "284111d8",
   "metadata": {},
   "outputs": [
    {
     "name": "stdout",
     "output_type": "stream",
     "text": [
      "Precision score: 0.8370879772350012\n",
      "Recall score: 0.6511713705958311\n"
     ]
    }
   ],
   "source": [
    "from sklearn.metrics import precision_score, recall_score\n",
    "print(f\"Precision score: {precision_score(y_train_5, y_train_pred)}\")\n",
    "print(f\"Recall score: {recall_score(y_train_5, y_train_pred)}\")"
   ]
  },
  {
   "cell_type": "markdown",
   "id": "a51646e0",
   "metadata": {},
   "source": [
    "### --- Precision/Recall Tradeoff (Use when positive class is rare)"
   ]
  },
  {
   "cell_type": "code",
   "execution_count": 21,
   "id": "d3b3e42b",
   "metadata": {},
   "outputs": [
    {
     "data": {
      "text/plain": [
       "array([2164.22030239])"
      ]
     },
     "execution_count": 21,
     "metadata": {},
     "output_type": "execute_result"
    }
   ],
   "source": [
    "# We use decision function to get the score of the first intance in the train set using SGD Classifier model\n",
    "y_score = sgd_clf.decision_function([some_digit])\n",
    "y_score"
   ]
  },
  {
   "cell_type": "code",
   "execution_count": 23,
   "id": "da7367a8",
   "metadata": {},
   "outputs": [
    {
     "data": {
      "text/plain": [
       "array([ True])"
      ]
     },
     "execution_count": 23,
     "metadata": {},
     "output_type": "execute_result"
    }
   ],
   "source": [
    "threshold = 0\n",
    "y_some_digit_pred = (y_score > threshold)\n",
    "y_some_digit_pred # Because the score of the instance is greater than the threshold, it was classified to be true (a 5)"
   ]
  },
  {
   "cell_type": "code",
   "execution_count": 24,
   "id": "6e1f186f",
   "metadata": {},
   "outputs": [
    {
     "data": {
      "text/plain": [
       "array([False])"
      ]
     },
     "execution_count": 24,
     "metadata": {},
     "output_type": "execute_result"
    }
   ],
   "source": [
    "threshold = 8000 # if we set a high threshold, then it will classify it as false\n",
    "y_some_digit_pred = (y_scores > threshold)\n",
    "y_some_digit_pred"
   ]
  },
  {
   "cell_type": "code",
   "execution_count": 29,
   "id": "1fbb8e20",
   "metadata": {},
   "outputs": [],
   "source": [
    "y_scores = cross_val_predict(sgd_clf, X_train, y_train_5, cv=3,\n",
    " method=\"decision_function\")"
   ]
  },
  {
   "cell_type": "code",
   "execution_count": 30,
   "id": "d7851d50",
   "metadata": {},
   "outputs": [],
   "source": [
    "from sklearn.metrics import precision_recall_curve\n",
    "precisions, recalls, thresholds = precision_recall_curve(y_train_5, y_scores)"
   ]
  },
  {
   "cell_type": "code",
   "execution_count": 31,
   "id": "3c8a0c9f",
   "metadata": {},
   "outputs": [],
   "source": [
    "# In this case, we want to choose a threshold that will give us a 90% precision\n",
    "threshold_90_precision = thresholds[np.argmax(precisions >= 0.90)]"
   ]
  },
  {
   "cell_type": "code",
   "execution_count": 36,
   "id": "507b91a4",
   "metadata": {},
   "outputs": [
    {
     "name": "stdout",
     "output_type": "stream",
     "text": [
      "Threshold of 90% precision: 3370.0194991439594\n"
     ]
    }
   ],
   "source": [
    "# If we set the threshold to this, we will be able to get a 90% precision\n",
    "print(f\"Threshold of 90% precision: {threshold_90_precision}\")"
   ]
  },
  {
   "cell_type": "code",
   "execution_count": 37,
   "id": "d5c682eb",
   "metadata": {},
   "outputs": [],
   "source": [
    "y_train_pred_90 = (y_scores >= threshold_90_precision)"
   ]
  },
  {
   "cell_type": "code",
   "execution_count": 39,
   "id": "2be0c5d9",
   "metadata": {},
   "outputs": [
    {
     "name": "stdout",
     "output_type": "stream",
     "text": [
      "Recall Score: 0.4799852425751706\n",
      "Precision Score: 0.9000345901072293\n"
     ]
    }
   ],
   "source": [
    "# We were able to achieve a precision score of 90%\n",
    "print(f\"Recall Score: {recall_score(y_train_5, y_train_pred_90)}\")\n",
    "print(f\"Precision Score: {precision_score(y_train_5, y_train_pred_90)}\")"
   ]
  },
  {
   "cell_type": "markdown",
   "id": "afe41936",
   "metadata": {},
   "source": [
    "### --- ROC Score (Use when positive class is not rare)"
   ]
  },
  {
   "cell_type": "code",
   "execution_count": 41,
   "id": "c1c6cbae",
   "metadata": {},
   "outputs": [
    {
     "name": "stdout",
     "output_type": "stream",
     "text": [
      "ROC AUC Score: 0.9604938554008616\n"
     ]
    }
   ],
   "source": [
    "from sklearn.metrics import roc_auc_score\n",
    "\n",
    "print(f\"ROC AUC Score: {roc_auc_score(y_train_5, y_scores)}\")"
   ]
  },
  {
   "cell_type": "markdown",
   "id": "026b7219",
   "metadata": {},
   "source": [
    "### --- F1 Score"
   ]
  },
  {
   "cell_type": "code",
   "execution_count": 16,
   "id": "453e2872",
   "metadata": {},
   "outputs": [
    {
     "name": "stdout",
     "output_type": "stream",
     "text": [
      "F1 Score: 0.7325171197343846\n"
     ]
    }
   ],
   "source": [
    "from sklearn.metrics import f1_score\n",
    "print(f\"F1 Score: {f1_score(y_train_5, y_train_pred)}\")"
   ]
  },
  {
   "cell_type": "markdown",
   "id": "9e9c6a06",
   "metadata": {},
   "source": [
    "## Random Forest Classifier"
   ]
  },
  {
   "cell_type": "code",
   "execution_count": 57,
   "id": "7d55b6b0",
   "metadata": {},
   "outputs": [
    {
     "data": {
      "text/plain": [
       "array([ True, False, False, False, False])"
      ]
     },
     "execution_count": 57,
     "metadata": {},
     "output_type": "execute_result"
    }
   ],
   "source": [
    "# Instead of a decision function that returns scores, RandomForest uses the predict_proba function\n",
    "from sklearn.ensemble import RandomForestClassifier\n",
    "forest_clf = RandomForestClassifier(random_state=42)\n",
    "y_probas_forest = cross_val_predict(forest_clf, X_train, y_train_5, cv=3,\n",
    " method=\"predict_proba\")\n",
    "forest_clf.fit(X_train, y_train_5)\n",
    "y_forest_pred = cross_val_predict(forest_clf, X_train, y_train_5, cv=3)\n",
    "y_forest_pred[:5]"
   ]
  },
  {
   "cell_type": "markdown",
   "id": "c9d1dde4",
   "metadata": {},
   "source": [
    "### --- Precision/Recall"
   ]
  },
  {
   "cell_type": "code",
   "execution_count": 58,
   "id": "baa0fd56",
   "metadata": {},
   "outputs": [
    {
     "name": "stdout",
     "output_type": "stream",
     "text": [
      "Precision score: 0.9905083315756169\n",
      "Recall score: 0.8662608374838591\n"
     ]
    }
   ],
   "source": [
    "from sklearn.metrics import precision_score, recall_score\n",
    "print(f\"Precision score: {precision_score(y_train_5, y_forest_pred)}\")\n",
    "print(f\"Recall score: {recall_score(y_train_5, y_forest_pred)}\")"
   ]
  },
  {
   "cell_type": "markdown",
   "id": "3120a7be",
   "metadata": {},
   "source": [
    "### --- ROC Score"
   ]
  },
  {
   "cell_type": "code",
   "execution_count": 59,
   "id": "18bc46b2",
   "metadata": {},
   "outputs": [
    {
     "name": "stdout",
     "output_type": "stream",
     "text": [
      "ROC AUC Score: 0.9983436731328145\n"
     ]
    }
   ],
   "source": [
    "# ROC AUC requires scores. RandomForest outputs probabilities so we need to convert it into scores. One way to do this is to use the proba of positive instances as scores \n",
    "y_scores_forest = y_probas_forest[:, 1]\n",
    "y_scores_forest = y_probas_forest[:, 1]\n",
    "print(f\"ROC AUC Score: {roc_auc_score(y_train_5, y_scores_forest)}\")"
   ]
  },
  {
   "cell_type": "markdown",
   "id": "676707d1",
   "metadata": {},
   "source": [
    "### --- F1 Score"
   ]
  },
  {
   "cell_type": "code",
   "execution_count": 60,
   "id": "8731deaf",
   "metadata": {},
   "outputs": [
    {
     "name": "stdout",
     "output_type": "stream",
     "text": [
      "F1 Score: 0.9242275142688446\n"
     ]
    }
   ],
   "source": [
    "from sklearn.metrics import f1_score\n",
    "print(f\"F1 Score: {f1_score(y_train_5, y_forest_pred)}\")"
   ]
  },
  {
   "cell_type": "markdown",
   "id": "3bd407d8",
   "metadata": {},
   "source": [
    "# 5.2 Multiclass Classification"
   ]
  },
  {
   "cell_type": "markdown",
   "id": "58252c50",
   "metadata": {},
   "source": [
    "## SGD Classifier (OVA)"
   ]
  },
  {
   "cell_type": "code",
   "execution_count": 62,
   "id": "7a22c32d",
   "metadata": {},
   "outputs": [
    {
     "data": {
      "text/plain": [
       "array([3], dtype=uint8)"
      ]
     },
     "execution_count": 62,
     "metadata": {},
     "output_type": "execute_result"
    }
   ],
   "source": [
    "# SGD Classifier automatically runs OVA\n",
    "from sklearn.linear_model import SGDClassifier\n",
    "\n",
    "sgd_clf = SGDClassifier(random_state=42)\n",
    "sgd_clf.fit(X_train, y_train)\n",
    "sgd_clf.predict([X[0]])"
   ]
  },
  {
   "cell_type": "code",
   "execution_count": 63,
   "id": "9038aed7",
   "metadata": {},
   "outputs": [
    {
     "data": {
      "text/plain": [
       "array([[-31893.03095419, -34419.69069632,  -9530.63950739,\n",
       "          1823.73154031, -22320.14822878,  -1385.80478895,\n",
       "        -26188.91070951, -16147.51323997,  -4604.35491274,\n",
       "        -12050.767298  ]])"
      ]
     },
     "execution_count": 63,
     "metadata": {},
     "output_type": "execute_result"
    }
   ],
   "source": [
    "sgd_clf.decision_function([some_digit]) # Returns the scores of falling to each class (0-9)"
   ]
  },
  {
   "cell_type": "markdown",
   "id": "0907a360",
   "metadata": {},
   "source": [
    "# SGD Classifier (OVO)"
   ]
  },
  {
   "cell_type": "code",
   "execution_count": 64,
   "id": "36201ab7",
   "metadata": {},
   "outputs": [
    {
     "data": {
      "text/plain": [
       "array([5], dtype=uint8)"
      ]
     },
     "execution_count": 64,
     "metadata": {},
     "output_type": "execute_result"
    }
   ],
   "source": [
    "# SGD Classifier automatically runs OVA so in this case, we forced it to do OVO\n",
    "from sklearn.multiclass import OneVsOneClassifier\n",
    "ovo_clf = OneVsOneClassifier(SGDClassifier(random_state=42))\n",
    "ovo_clf.fit(X_train, y_train)\n",
    "ovo_clf.predict([X[0]])"
   ]
  },
  {
   "cell_type": "code",
   "execution_count": 65,
   "id": "97732ae2",
   "metadata": {},
   "outputs": [
    {
     "data": {
      "text/plain": [
       "array([[2.66666696, 3.66666714, 5.33333258, 8.33333319, 0.6666669 ,\n",
       "        9.33333315, 0.66666684, 2.66666841, 5.33333214, 6.33333275]])"
      ]
     },
     "execution_count": 65,
     "metadata": {},
     "output_type": "execute_result"
    }
   ],
   "source": [
    "ovo_clf.decision_function([some_digit])"
   ]
  },
  {
   "cell_type": "markdown",
   "id": "6d32e9a4",
   "metadata": {},
   "source": [
    "# Random Forest (no need to OVO and OVA)"
   ]
  },
  {
   "cell_type": "code",
   "execution_count": 66,
   "id": "9eb1c20d",
   "metadata": {},
   "outputs": [
    {
     "data": {
      "text/plain": [
       "array([5], dtype=uint8)"
      ]
     },
     "execution_count": 66,
     "metadata": {},
     "output_type": "execute_result"
    }
   ],
   "source": [
    "forest_clf.fit(X_train, y_train)\n",
    "forest_clf.predict([X[0]])"
   ]
  },
  {
   "cell_type": "code",
   "execution_count": 67,
   "id": "d4b4f10d",
   "metadata": {},
   "outputs": [
    {
     "data": {
      "text/plain": [
       "array([[0.  , 0.  , 0.01, 0.08, 0.  , 0.9 , 0.  , 0.  , 0.  , 0.01]])"
      ]
     },
     "execution_count": 67,
     "metadata": {},
     "output_type": "execute_result"
    }
   ],
   "source": [
    "forest_clf.predict_proba([X[0]])"
   ]
  },
  {
   "cell_type": "markdown",
   "id": "d9dc0332",
   "metadata": {},
   "source": [
    "# K Nearest Neighbors"
   ]
  },
  {
   "cell_type": "code",
   "execution_count": 72,
   "id": "0652ce92",
   "metadata": {},
   "outputs": [
    {
     "data": {
      "text/plain": [
       "array([5, 0, 4, 1, 9], dtype=uint8)"
      ]
     },
     "execution_count": 72,
     "metadata": {},
     "output_type": "execute_result"
    }
   ],
   "source": [
    "from sklearn.neighbors import KNeighborsClassifier\n",
    "knn_clf = KNeighborsClassifier(weights='distance', n_neighbors=4)\n",
    "knn_clf.fit(X_train, y_train)import numpy as np\n",
    "import pandas as pd\n",
    "import matplotlib.pyplot as plt\n",
    "import seaborn as sns\n",
    "%matplotlib inline\n",
    "\n",
    "knn_y_pred = cross_val_predict(knn_clf, X_train, y_train, cv=3)\n",
    "knn_y_pred[:5]"
   ]
  },
  {
   "cell_type": "code",
   "execution_count": 75,
   "id": "d141a445",
   "metadata": {},
   "outputs": [
    {
     "data": {
      "text/plain": [
       "array([0.9709 , 0.9698 , 0.97035])"
      ]
     },
     "execution_count": 75,
     "metadata": {},
     "output_type": "execute_result"
    }
   ],
   "source": [
    "cross_val_score(knn_clf, X_train, y_train, cv=3, scoring=\"accuracy\")"
   ]
  },
  {
   "cell_type": "code",
   "execution_count": null,
   "id": "2d04c69b",
   "metadata": {},
   "outputs": [],
   "source": []
  }
 ],
 "metadata": {
  "kernelspec": {
   "display_name": "Python 3 (ipykernel)",
   "language": "python",
   "name": "python3"
  },
  "language_info": {
   "codemirror_mode": {
    "name": "ipython",
    "version": 3
   },
   "file_extension": ".py",
   "mimetype": "text/x-python",
   "name": "python",
   "nbconvert_exporter": "python",
   "pygments_lexer": "ipython3",
   "version": "3.9.12"
  }
 },
 "nbformat": 4,
 "nbformat_minor": 5
}
